{
 "cells": [
  {
   "cell_type": "code",
   "execution_count": 1,
   "metadata": {},
   "outputs": [
    {
     "name": "stderr",
     "output_type": "stream",
     "text": [
      "Using TensorFlow backend.\n"
     ]
    }
   ],
   "source": [
    "import pandas as pd\n",
    "import numpy as np\n",
    "import os\n",
    "import keras\n",
    "import matplotlib.pyplot as plt\n",
    "from keras.layers import Dense,GlobalAveragePooling2D\n",
    "from keras.applications import MobileNet\n",
    "from keras.preprocessing import image\n",
    "from keras.applications.mobilenet import preprocess_input\n",
    "from keras.preprocessing.image import ImageDataGenerator\n",
    "from keras.models import Model\n",
    "from keras.optimizers import Adam"
   ]
  },
  {
   "cell_type": "code",
   "execution_count": 22,
   "metadata": {},
   "outputs": [],
   "source": [
    "base_model=MobileNet(weights='imagenet',include_top=False) #imports the mobilenet model and discards the last 1000 neuron layer.\n",
    "\n",
    "x=base_model.output\n",
    "x=GlobalAveragePooling2D()(x)\n",
    "x=Dense(1024,activation='relu')(x) #we add dense layers so that the model can learn more complex functions and classify for better results.\n",
    "x=Dense(1024,activation='relu')(x) #dense layer 2\n",
    "x=Dense(512,activation='relu')(x) #dense layer 3\n",
    "preds=Dense(119,activation='softmax')(x) #final layer with softmax activation"
   ]
  },
  {
   "cell_type": "code",
   "execution_count": 23,
   "metadata": {},
   "outputs": [],
   "source": [
    "model=Model(inputs=base_model.input,outputs=preds)"
   ]
  },
  {
   "cell_type": "code",
   "execution_count": 24,
   "metadata": {},
   "outputs": [
    {
     "name": "stdout",
     "output_type": "stream",
     "text": [
      "0 input_2\n",
      "1 conv1_pad\n",
      "2 conv1\n",
      "3 conv1_bn\n",
      "4 conv1_relu\n",
      "5 conv_dw_1\n",
      "6 conv_dw_1_bn\n",
      "7 conv_dw_1_relu\n",
      "8 conv_pw_1\n",
      "9 conv_pw_1_bn\n",
      "10 conv_pw_1_relu\n",
      "11 conv_pad_2\n",
      "12 conv_dw_2\n",
      "13 conv_dw_2_bn\n",
      "14 conv_dw_2_relu\n",
      "15 conv_pw_2\n",
      "16 conv_pw_2_bn\n",
      "17 conv_pw_2_relu\n",
      "18 conv_dw_3\n",
      "19 conv_dw_3_bn\n",
      "20 conv_dw_3_relu\n",
      "21 conv_pw_3\n",
      "22 conv_pw_3_bn\n",
      "23 conv_pw_3_relu\n",
      "24 conv_pad_4\n",
      "25 conv_dw_4\n",
      "26 conv_dw_4_bn\n",
      "27 conv_dw_4_relu\n",
      "28 conv_pw_4\n",
      "29 conv_pw_4_bn\n",
      "30 conv_pw_4_relu\n",
      "31 conv_dw_5\n",
      "32 conv_dw_5_bn\n",
      "33 conv_dw_5_relu\n",
      "34 conv_pw_5\n",
      "35 conv_pw_5_bn\n",
      "36 conv_pw_5_relu\n",
      "37 conv_pad_6\n",
      "38 conv_dw_6\n",
      "39 conv_dw_6_bn\n",
      "40 conv_dw_6_relu\n",
      "41 conv_pw_6\n",
      "42 conv_pw_6_bn\n",
      "43 conv_pw_6_relu\n",
      "44 conv_dw_7\n",
      "45 conv_dw_7_bn\n",
      "46 conv_dw_7_relu\n",
      "47 conv_pw_7\n",
      "48 conv_pw_7_bn\n",
      "49 conv_pw_7_relu\n",
      "50 conv_dw_8\n",
      "51 conv_dw_8_bn\n",
      "52 conv_dw_8_relu\n",
      "53 conv_pw_8\n",
      "54 conv_pw_8_bn\n",
      "55 conv_pw_8_relu\n",
      "56 conv_dw_9\n",
      "57 conv_dw_9_bn\n",
      "58 conv_dw_9_relu\n",
      "59 conv_pw_9\n",
      "60 conv_pw_9_bn\n",
      "61 conv_pw_9_relu\n",
      "62 conv_dw_10\n",
      "63 conv_dw_10_bn\n",
      "64 conv_dw_10_relu\n",
      "65 conv_pw_10\n",
      "66 conv_pw_10_bn\n",
      "67 conv_pw_10_relu\n",
      "68 conv_dw_11\n",
      "69 conv_dw_11_bn\n",
      "70 conv_dw_11_relu\n",
      "71 conv_pw_11\n",
      "72 conv_pw_11_bn\n",
      "73 conv_pw_11_relu\n",
      "74 conv_pad_12\n",
      "75 conv_dw_12\n",
      "76 conv_dw_12_bn\n",
      "77 conv_dw_12_relu\n",
      "78 conv_pw_12\n",
      "79 conv_pw_12_bn\n",
      "80 conv_pw_12_relu\n",
      "81 conv_dw_13\n",
      "82 conv_dw_13_bn\n",
      "83 conv_dw_13_relu\n",
      "84 conv_pw_13\n",
      "85 conv_pw_13_bn\n",
      "86 conv_pw_13_relu\n",
      "87 global_average_pooling2d_2\n",
      "88 dense_5\n",
      "89 dense_6\n",
      "90 dense_7\n",
      "91 dense_8\n"
     ]
    }
   ],
   "source": [
    "for i,layer in enumerate(model.layers):\n",
    "    print(i,layer.name)"
   ]
  },
  {
   "cell_type": "code",
   "execution_count": 25,
   "metadata": {},
   "outputs": [],
   "source": [
    "for layer in model.layers:\n",
    "    layer.trainable=False\n",
    "# or if we want to set the first 20 layers of the network to be non-trainable\n",
    "for layer in model.layers[:20]:\n",
    "    layer.trainable=False\n",
    "for layer in model.layers[20:]:\n",
    "    layer.trainable=True"
   ]
  },
  {
   "cell_type": "code",
   "execution_count": 21,
   "metadata": {},
   "outputs": [
    {
     "name": "stdout",
     "output_type": "stream",
     "text": [
      "Found 50403 images belonging to 119 classes.\n"
     ]
    }
   ],
   "source": [
    "train_datagen=ImageDataGenerator(preprocessing_function=preprocess_input) #included in our dependencies\n",
    "\n",
    "train_generator=train_datagen.flow_from_directory('Fruit-Images-Dataset/Training/',\n",
    "                                                 #target_size=(224,224),\n",
    "                                                 color_mode='rgb',\n",
    "                                                 batch_size=32,\n",
    "                                                 class_mode='categorical',\n",
    "                                                 shuffle=True)"
   ]
  },
  {
   "cell_type": "code",
   "execution_count": 7,
   "metadata": {},
   "outputs": [],
   "source": [
    "os.environ[\"CUDA_VISIBLE_DEVICES\"]=\"0,1\""
   ]
  },
  {
   "cell_type": "code",
   "execution_count": 26,
   "metadata": {},
   "outputs": [
    {
     "name": "stdout",
     "output_type": "stream",
     "text": [
      "Epoch 1/5\n",
      "1575/1575 [==============================] - 2535s 2s/step - loss: 0.4128 - acc: 0.8950\n",
      "Epoch 2/5\n",
      "1575/1575 [==============================] - 2492s 2s/step - loss: 0.1730 - acc: 0.9574\n",
      "Epoch 3/5\n",
      "1575/1575 [==============================] - 2378s 2s/step - loss: 0.1433 - acc: 0.9647\n",
      "Epoch 4/5\n",
      "1575/1575 [==============================] - 986s 626ms/step - loss: 0.1306 - acc: 0.9698\n",
      "Epoch 5/5\n",
      "1575/1575 [==============================] - 987s 627ms/step - loss: 0.1031 - acc: 0.9763\n"
     ]
    }
   ],
   "source": [
    "model.compile(optimizer='Adam',loss='categorical_crossentropy',metrics=['accuracy'])\n",
    "# Adam optimizer\n",
    "# loss function will be categorical cross entropy\n",
    "# evaluation metric will be accuracy\n",
    "\n",
    "step_size_train=train_generator.n//train_generator.batch_size\n",
    "food_model = model.fit_generator(generator=train_generator,\n",
    "                   steps_per_epoch=step_size_train,\n",
    "                   epochs=5)"
   ]
  },
  {
   "cell_type": "code",
   "execution_count": 12,
   "metadata": {},
   "outputs": [],
   "source": [
    "model.save(\"food_v1.h5\")"
   ]
  },
  {
   "cell_type": "code",
   "execution_count": 28,
   "metadata": {},
   "outputs": [],
   "source": [
    "model.save(\"all_groceries_model.h5\")"
   ]
  },
  {
   "cell_type": "code",
   "execution_count": 29,
   "metadata": {},
   "outputs": [
    {
     "name": "stdout",
     "output_type": "stream",
     "text": [
      "Found 16727 images belonging to 104 classes.\n"
     ]
    }
   ],
   "source": [
    "# test_folder\n",
    "\n",
    "test_generator=train_datagen.flow_from_directory('Fruit-Images-Dataset/Test/',\n",
    "                                                 #target_size=(224,224),\n",
    "                                                 color_mode='rgb',\n",
    "                                                 batch_size=32,\n",
    "                                                 class_mode='categorical',\n",
    "                                                 shuffle=True)"
   ]
  },
  {
   "cell_type": "code",
   "execution_count": 42,
   "metadata": {},
   "outputs": [
    {
     "name": "stdout",
     "output_type": "stream",
     "text": [
      "<keras_preprocessing.image.DirectoryIterator object at 0x00000213B7D65550>\n"
     ]
    }
   ],
   "source": [
    "#step_size_test=test_generator.n//test_generator.batch_size\n",
    "filenames = test_generator.filenames[:20]\n",
    "nb_samples = len(filenames)\n",
    "\n",
    "predict = model.predict_generator(test_generator,steps = nb_samples)\n",
    "predicted_class_indices=np.argmax(predict,axis=1)\n",
    "labels = (train_generator.class_indices)\n",
    "labels = dict((v,k) for k,v in labels.items())\n",
    "predictions = [labels[k] for k in predicted_class_indices]"
   ]
  },
  {
   "cell_type": "code",
   "execution_count": 40,
   "metadata": {},
   "outputs": [
    {
     "data": {
      "text/plain": [
       "{0: 'Apple Braeburn',\n",
       " 1: 'Apple Golden 1',\n",
       " 2: 'Apple Golden 2',\n",
       " 3: 'Apple Golden 3',\n",
       " 4: 'Apple Granny Smith',\n",
       " 5: 'Apple Red 1',\n",
       " 6: 'Apple Red 2',\n",
       " 7: 'Apple Red 3',\n",
       " 8: 'Apple Red Delicious',\n",
       " 9: 'Apple Red Yellow 1',\n",
       " 10: 'Apple Red Yellow 2',\n",
       " 11: 'Apricot',\n",
       " 12: 'Asparagus',\n",
       " 13: 'Aubergine',\n",
       " 14: 'Avocado',\n",
       " 15: 'Avocado ripe',\n",
       " 16: 'Banana',\n",
       " 17: 'Banana Lady Finger',\n",
       " 18: 'Banana Red',\n",
       " 19: 'Brown-Cap-Mushroom',\n",
       " 20: 'Cabbage',\n",
       " 21: 'Cactus fruit',\n",
       " 22: 'Cantaloupe 1',\n",
       " 23: 'Cantaloupe 2',\n",
       " 24: 'Carambula',\n",
       " 25: 'Carrots',\n",
       " 26: 'Cherry 1',\n",
       " 27: 'Cherry 2',\n",
       " 28: 'Cherry Rainier',\n",
       " 29: 'Cherry Wax Black',\n",
       " 30: 'Cherry Wax Red',\n",
       " 31: 'Cherry Wax Yellow',\n",
       " 32: 'Chestnut',\n",
       " 33: 'Clementine',\n",
       " 34: 'Cocos',\n",
       " 35: 'Cucumber',\n",
       " 36: 'Dates',\n",
       " 37: 'Garlic',\n",
       " 38: 'Ginger',\n",
       " 39: 'Granadilla',\n",
       " 40: 'Grape Blue',\n",
       " 41: 'Grape Pink',\n",
       " 42: 'Grape White',\n",
       " 43: 'Grape White 2',\n",
       " 44: 'Grape White 3',\n",
       " 45: 'Grape White 4',\n",
       " 46: 'Grapefruit Pink',\n",
       " 47: 'Grapefruit White',\n",
       " 48: 'Guava',\n",
       " 49: 'Hazelnut',\n",
       " 50: 'Huckleberry',\n",
       " 51: 'Juice',\n",
       " 52: 'Kaki',\n",
       " 53: 'Kiwi',\n",
       " 54: 'Kumquats',\n",
       " 55: 'Leek',\n",
       " 56: 'Lemon',\n",
       " 57: 'Lemon Meyer',\n",
       " 58: 'Limes',\n",
       " 59: 'Lychee',\n",
       " 60: 'Mandarine',\n",
       " 61: 'Mango',\n",
       " 62: 'Mangostan',\n",
       " 63: 'Maracuja',\n",
       " 64: 'Melon Piel de Sapo',\n",
       " 65: 'Milk',\n",
       " 66: 'Mulberry',\n",
       " 67: 'Nectarine',\n",
       " 68: 'Oat-Milk',\n",
       " 69: 'Oatghurt',\n",
       " 70: 'Onion',\n",
       " 71: 'Orange',\n",
       " 72: 'Papaya',\n",
       " 73: 'Passion Fruit',\n",
       " 74: 'Peach',\n",
       " 75: 'Peach 2',\n",
       " 76: 'Peach Flat',\n",
       " 77: 'Pear',\n",
       " 78: 'Pear Abate',\n",
       " 79: 'Pear Kaiser',\n",
       " 80: 'Pear Monster',\n",
       " 81: 'Pear Williams',\n",
       " 82: 'Pepino',\n",
       " 83: 'Pepper',\n",
       " 84: 'Physalis',\n",
       " 85: 'Physalis with Husk',\n",
       " 86: 'Pineapple',\n",
       " 87: 'Pineapple Mini',\n",
       " 88: 'Pitahaya Red',\n",
       " 89: 'Plum',\n",
       " 90: 'Plum 2',\n",
       " 91: 'Plum 3',\n",
       " 92: 'Pomegranate',\n",
       " 93: 'Pomelo Sweetie',\n",
       " 94: 'Potato',\n",
       " 95: 'Quince',\n",
       " 96: 'Rambutan',\n",
       " 97: 'Raspberry',\n",
       " 98: 'Red-Beet',\n",
       " 99: 'Redcurrant',\n",
       " 100: 'Salak',\n",
       " 101: 'Sour-Cream',\n",
       " 102: 'Sour-Milk',\n",
       " 103: 'Soy-Milk',\n",
       " 104: 'Soyghurt',\n",
       " 105: 'Strawberry',\n",
       " 106: 'Strawberry Wedge',\n",
       " 107: 'Tamarillo',\n",
       " 108: 'Tangelo',\n",
       " 109: 'Tomato',\n",
       " 110: 'Tomato 1',\n",
       " 111: 'Tomato 2',\n",
       " 112: 'Tomato 3',\n",
       " 113: 'Tomato 4',\n",
       " 114: 'Tomato Cherry Red',\n",
       " 115: 'Tomato Maroon',\n",
       " 116: 'Walnut',\n",
       " 117: 'Yoghurt',\n",
       " 118: 'Zucchini'}"
      ]
     },
     "execution_count": 40,
     "metadata": {},
     "output_type": "execute_result"
    }
   ],
   "source": [
    "labels"
   ]
  },
  {
   "cell_type": "code",
   "execution_count": 75,
   "metadata": {},
   "outputs": [
    {
     "name": "stdout",
     "output_type": "stream",
     "text": [
      "Found 23 images belonging to 1 classes.\n"
     ]
    }
   ],
   "source": [
    "from tkinter import filedialog\n",
    "from tkinter.filedialog import askopenfilename\n",
    "test_datagen = ImageDataGenerator(rescale=1. / 255)\n",
    "#directory = filedialog.askdirectory()\n",
    "#file_list = os.listdir(directory)\n",
    "#pred_dir = 'RecipeCoach/scripts/ToPredict/'\n",
    "\n",
    "pred_dir = filedialog.askdirectory()\n",
    "\n",
    "photo_generator=test_datagen.flow_from_directory(directory=pred_dir,\n",
    "                                                 target_size=(224,224),\n",
    "                                                 color_mode='rgb',\n",
    "                                                 batch_size=32,\n",
    "                                                 class_mode='categorical',\n",
    "                                                 shuffle=True)\n",
    "\n"
   ]
  },
  {
   "cell_type": "code",
   "execution_count": 76,
   "metadata": {},
   "outputs": [],
   "source": [
    "photo_generator.reset()"
   ]
  },
  {
   "cell_type": "code",
   "execution_count": 77,
   "metadata": {},
   "outputs": [
    {
     "name": "stdout",
     "output_type": "stream",
     "text": [
      "\r",
      "1/1 [==============================] - 0s 435ms/step\n"
     ]
    }
   ],
   "source": [
    "pred=model.predict_generator(photo_generator,verbose=1,steps=1)\n",
    "predicted_class_indices=np.argmax(pred,axis=1)"
   ]
  },
  {
   "cell_type": "code",
   "execution_count": 78,
   "metadata": {},
   "outputs": [],
   "source": [
    "labels = (train_generator.class_indices)\n",
    "labels = dict((v,k) for k,v in labels.items())"
   ]
  },
  {
   "cell_type": "code",
   "execution_count": 79,
   "metadata": {},
   "outputs": [
    {
     "data": {
      "text/plain": [
       "{0: 'Apple Braeburn',\n",
       " 1: 'Apple Golden 1',\n",
       " 2: 'Apple Golden 2',\n",
       " 3: 'Apple Golden 3',\n",
       " 4: 'Apple Granny Smith',\n",
       " 5: 'Apple Red 1',\n",
       " 6: 'Apple Red 2',\n",
       " 7: 'Apple Red 3',\n",
       " 8: 'Apple Red Delicious',\n",
       " 9: 'Apple Red Yellow 1',\n",
       " 10: 'Apple Red Yellow 2',\n",
       " 11: 'Apricot',\n",
       " 12: 'Asparagus',\n",
       " 13: 'Aubergine',\n",
       " 14: 'Avocado',\n",
       " 15: 'Avocado ripe',\n",
       " 16: 'Banana',\n",
       " 17: 'Banana Lady Finger',\n",
       " 18: 'Banana Red',\n",
       " 19: 'Brown-Cap-Mushroom',\n",
       " 20: 'Cabbage',\n",
       " 21: 'Cactus fruit',\n",
       " 22: 'Cantaloupe 1',\n",
       " 23: 'Cantaloupe 2',\n",
       " 24: 'Carambula',\n",
       " 25: 'Carrots',\n",
       " 26: 'Cherry 1',\n",
       " 27: 'Cherry 2',\n",
       " 28: 'Cherry Rainier',\n",
       " 29: 'Cherry Wax Black',\n",
       " 30: 'Cherry Wax Red',\n",
       " 31: 'Cherry Wax Yellow',\n",
       " 32: 'Chestnut',\n",
       " 33: 'Clementine',\n",
       " 34: 'Cocos',\n",
       " 35: 'Cucumber',\n",
       " 36: 'Dates',\n",
       " 37: 'Garlic',\n",
       " 38: 'Ginger',\n",
       " 39: 'Granadilla',\n",
       " 40: 'Grape Blue',\n",
       " 41: 'Grape Pink',\n",
       " 42: 'Grape White',\n",
       " 43: 'Grape White 2',\n",
       " 44: 'Grape White 3',\n",
       " 45: 'Grape White 4',\n",
       " 46: 'Grapefruit Pink',\n",
       " 47: 'Grapefruit White',\n",
       " 48: 'Guava',\n",
       " 49: 'Hazelnut',\n",
       " 50: 'Huckleberry',\n",
       " 51: 'Juice',\n",
       " 52: 'Kaki',\n",
       " 53: 'Kiwi',\n",
       " 54: 'Kumquats',\n",
       " 55: 'Leek',\n",
       " 56: 'Lemon',\n",
       " 57: 'Lemon Meyer',\n",
       " 58: 'Limes',\n",
       " 59: 'Lychee',\n",
       " 60: 'Mandarine',\n",
       " 61: 'Mango',\n",
       " 62: 'Mangostan',\n",
       " 63: 'Maracuja',\n",
       " 64: 'Melon Piel de Sapo',\n",
       " 65: 'Milk',\n",
       " 66: 'Mulberry',\n",
       " 67: 'Nectarine',\n",
       " 68: 'Oat-Milk',\n",
       " 69: 'Oatghurt',\n",
       " 70: 'Onion',\n",
       " 71: 'Orange',\n",
       " 72: 'Papaya',\n",
       " 73: 'Passion Fruit',\n",
       " 74: 'Peach',\n",
       " 75: 'Peach 2',\n",
       " 76: 'Peach Flat',\n",
       " 77: 'Pear',\n",
       " 78: 'Pear Abate',\n",
       " 79: 'Pear Kaiser',\n",
       " 80: 'Pear Monster',\n",
       " 81: 'Pear Williams',\n",
       " 82: 'Pepino',\n",
       " 83: 'Pepper',\n",
       " 84: 'Physalis',\n",
       " 85: 'Physalis with Husk',\n",
       " 86: 'Pineapple',\n",
       " 87: 'Pineapple Mini',\n",
       " 88: 'Pitahaya Red',\n",
       " 89: 'Plum',\n",
       " 90: 'Plum 2',\n",
       " 91: 'Plum 3',\n",
       " 92: 'Pomegranate',\n",
       " 93: 'Pomelo Sweetie',\n",
       " 94: 'Potato',\n",
       " 95: 'Quince',\n",
       " 96: 'Rambutan',\n",
       " 97: 'Raspberry',\n",
       " 98: 'Red-Beet',\n",
       " 99: 'Redcurrant',\n",
       " 100: 'Salak',\n",
       " 101: 'Sour-Cream',\n",
       " 102: 'Sour-Milk',\n",
       " 103: 'Soy-Milk',\n",
       " 104: 'Soyghurt',\n",
       " 105: 'Strawberry',\n",
       " 106: 'Strawberry Wedge',\n",
       " 107: 'Tamarillo',\n",
       " 108: 'Tangelo',\n",
       " 109: 'Tomato',\n",
       " 110: 'Tomato 1',\n",
       " 111: 'Tomato 2',\n",
       " 112: 'Tomato 3',\n",
       " 113: 'Tomato 4',\n",
       " 114: 'Tomato Cherry Red',\n",
       " 115: 'Tomato Maroon',\n",
       " 116: 'Walnut',\n",
       " 117: 'Yoghurt',\n",
       " 118: 'Zucchini'}"
      ]
     },
     "execution_count": 79,
     "metadata": {},
     "output_type": "execute_result"
    }
   ],
   "source": [
    "labels"
   ]
  },
  {
   "cell_type": "code",
   "execution_count": 80,
   "metadata": {},
   "outputs": [],
   "source": [
    "predictions = [labels[k] for k in predicted_class_indices]"
   ]
  },
  {
   "cell_type": "code",
   "execution_count": 81,
   "metadata": {},
   "outputs": [
    {
     "data": {
      "text/plain": [
       "['Cantaloupe 1',\n",
       " 'Red-Beet',\n",
       " 'Peach 2',\n",
       " 'Carrots',\n",
       " 'Cherry Wax Yellow',\n",
       " 'Cantaloupe 2',\n",
       " 'Physalis with Husk',\n",
       " 'Cherry Wax Yellow',\n",
       " 'Cantaloupe 2',\n",
       " 'Tomato 4',\n",
       " 'Physalis with Husk',\n",
       " 'Tomato Maroon',\n",
       " 'Apple Golden 2',\n",
       " 'Onion',\n",
       " 'Asparagus',\n",
       " 'Physalis with Husk',\n",
       " 'Cantaloupe 2',\n",
       " 'Red-Beet',\n",
       " 'Asparagus',\n",
       " 'Juice',\n",
       " 'Physalis with Husk',\n",
       " 'Red-Beet',\n",
       " 'Pineapple']"
      ]
     },
     "execution_count": 81,
     "metadata": {},
     "output_type": "execute_result"
    }
   ],
   "source": [
    "predictions"
   ]
  },
  {
   "cell_type": "code",
   "execution_count": null,
   "metadata": {},
   "outputs": [],
   "source": [
    "#filenames = photo_generator.filenames\n",
    "#nb_samples = len(filenames)\n",
    "\n",
    "#predict = model.predict_generator(photo_generator,steps = nb_samples)\n",
    "\n",
    "#predict = model.predict(file_list)\n",
    "#predicted_class_indices=np.argmax(predict,axis=1)\n",
    "#predictions = [labels[k] for k in predicted_class_indices]\n",
    "#print(predictions)"
   ]
  },
  {
   "cell_type": "code",
   "execution_count": null,
   "metadata": {},
   "outputs": [],
   "source": []
  }
 ],
 "metadata": {
  "kernelspec": {
   "display_name": "Python 3",
   "language": "python",
   "name": "python3"
  },
  "language_info": {
   "codemirror_mode": {
    "name": "ipython",
    "version": 3
   },
   "file_extension": ".py",
   "mimetype": "text/x-python",
   "name": "python",
   "nbconvert_exporter": "python",
   "pygments_lexer": "ipython3",
   "version": "3.6.8"
  }
 },
 "nbformat": 4,
 "nbformat_minor": 2
}
